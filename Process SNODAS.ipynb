{
 "cells": [
  {
   "cell_type": "code",
   "execution_count": null,
   "metadata": {
    "collapsed": true
   },
   "outputs": [],
   "source": [
    "import datetime\n",
    "import rasterio as rs\n",
    "\n",
    "def get_date(fl):\n",
    "    \n",
    "    year = fl.split('__')[-1].split('.')[0][11:15]\n",
    "    month = fl.split('__')[-1].split('.')[0][15:17]\n",
    "    day = fl.split('__')[-1].split('.')[0][17:19]\n",
    "    \n",
    "    return '%s-%s-%s'%(year,month,day)\n",
    "\n",
    "def get_WaterYear(dt):\n",
    "    \n",
    "    strt = datetime.datetime(dt.year,10,1)\n",
    "    nd = datetime.datetime(dt.year,12,31)\n",
    "    \n",
    "    if (dt >= strt) & (dt <= nd):\n",
    "        return dt.year+1\n",
    "    else:\n",
    "        return dt.year\n",
    "    \n",
    "def DOWY(date):\n",
    "    '''compute day of water year from a YYYY-MM-DD date string'''\n",
    "    if date == 'None':\n",
    "        return np.NaN\n",
    "    else:\n",
    "        year = int(date.split('-')[0])\n",
    "        month = int(date.split('-')[1])\n",
    "        day = int(date.split('-')[2])\n",
    "        \n",
    "        date = datetime.datetime(year,month,day)\n",
    "\n",
    "        if date <= datetime.datetime(year,9,30):\n",
    "            return (date - datetime.datetime(year - 1,10,1)).days\n",
    "        else: \n",
    "            return (date - datetime.datetime(year,10,1)).days + 1\n",
    "        \n",
    "def get_dons(vals,dates=[]):\n",
    "    '''Pull the date of no snow'''\n",
    "    if np.nansum(vals) > 0:\n",
    "        dons = dates[np.nanargmin(vals)] # return the first date that the pack hits 0\n",
    "        return DOWY(str(dons.date()))\n",
    "    else: return np.NaN\n",
    "    \n",
    "def get_peakSWE(vals):\n",
    "    '''Pull the peak SWE value'''\n",
    "    \n",
    "    if np.nansum(vals) > 0:\n",
    "        peakSWE = np.nanmax(vals)\n",
    "        return peakSWE\n",
    "\n",
    "    else:\n",
    "        return np.NaN\n",
    "\n",
    "def get_doPeakSWE(vals,dates=[]):\n",
    "    '''Pull the date of peak SWE\n",
    "    return a datetime object\n",
    "    '''\n",
    "    if np.nansum(vals) > 0:\n",
    "        dops = dates[np.nanargmax(vals)] # return the first date that the pack maxes out\n",
    "        return DOWY(str(dops.date()))\n",
    "    \n",
    "    else: return np.NaN"
   ]
  },
  {
   "cell_type": "code",
   "execution_count": null,
   "metadata": {
    "collapsed": true
   },
   "outputs": [],
   "source": [
    "# generate a list of file names\n",
    "files = pd.DataFrame()\n",
    "files['name'] = glob.glob('./data/SNODAS_SWE/SnowWaterEquivalent/*/*.tif')\n",
    "files['datetime'] = files.name.map(get_date)\n",
    "files.index = pd.DatetimeIndex(files.datetime)\n",
    "del files['datetime']\n",
    "files['WaterYear'] = files.index.map(get_WaterYear)\n",
    "files.sort_index(ascending=True,inplace=True)"
   ]
  },
  {
   "cell_type": "code",
   "execution_count": null,
   "metadata": {
    "collapsed": true
   },
   "outputs": [],
   "source": [
    "waterYears = files.WaterYear.unique()"
   ]
  },
  {
   "cell_type": "code",
   "execution_count": null,
   "metadata": {
    "collapsed": true
   },
   "outputs": [],
   "source": [
    "#wy = 2006\n",
    "wy = 2004\n",
    "fileList = files.loc[files.WaterYear==wy] # extract the files necessary\n",
    "n = len(fileList) # number of files or raster stack depth\n",
    "dates = fileList.index\n",
    "\n",
    "# load a test file to get the array dimensions\n",
    "with rs.open(fileList.name[0]) as ds:\n",
    "    j,k = ds.read(1).shape\n",
    "    profile = ds.profile\n",
    "    \n",
    "tmp = np.ndarray((n,j,k)) # preallocate the array\n",
    "tmp[:,:,:] = np.NaN # fill with NaNs\n",
    "    \n",
    "i = 0\n",
    "for fl in fileList.name:\n",
    "\n",
    "    with rs.open(fl) as ds:\n",
    "        d = ds.read(1)\n",
    "\n",
    "        jj,kk = d.shape\n",
    "        if (jj != j) | (kk != k):\n",
    "            print('Arrays are not the same shape, skipping slice %s'%i)\n",
    "            del d\n",
    "            i += 1\n",
    "            continue\n",
    "        else:\n",
    "            dd = np.array(d,dtype = np.float32)\n",
    "            del d\n",
    "            dd[dd==-9999] = np.NaN\n",
    "            tmp[i,:,:] = dd/1000. # pull the data into the stack and scale it\n",
    "            i += 1\n",
    "    \n",
    "# preallocate\n",
    "dowy_PeakSWE = np.ndarray((j,k),dtype=np.float32)\n",
    "dowy_PeakSWE[:,:] = np.NaN\n",
    "dowy_DONS = dowy_PeakSWE.copy()\n",
    "PeakSWE = dowy_PeakSWE.copy()\n",
    "\n",
    "for i in range(j):\n",
    "    for o in range(k):\n",
    "        vals = tmp[:,i,o]\n",
    "        \n",
    "        dowy_PeakSWE[i,o] = get_doPeakSWE(vals,dates=dates)\n",
    "        dowy_DONS[i,o] = get_dons(vals,dates=dates)\n",
    "        PeakSWE[i,o] = get_peakSWE(vals)"
   ]
  },
  {
   "cell_type": "code",
   "execution_count": null,
   "metadata": {
    "collapsed": true
   },
   "outputs": [],
   "source": [
    "plt.imshow(dowy_PeakSWE,cmap='Blues')\n",
    "plt.colorbar()"
   ]
  },
  {
   "cell_type": "code",
   "execution_count": null,
   "metadata": {
    "collapsed": true
   },
   "outputs": [],
   "source": [
    "plt.imshow(dowy_DONS,cmap='Blues')\n",
    "plt.colorbar()"
   ]
  },
  {
   "cell_type": "code",
   "execution_count": null,
   "metadata": {
    "collapsed": true
   },
   "outputs": [],
   "source": [
    "plt.imshow(PeakSWE,cmap='Blues')\n",
    "plt.colorbar()"
   ]
  },
  {
   "cell_type": "code",
   "execution_count": null,
   "metadata": {
    "collapsed": true
   },
   "outputs": [],
   "source": [
    "print(np.nanmean(dowy_PeakSWE))\n",
    "print(np.nanmean(dowy_DONS))\n",
    "print(np.nanmean(PeakSWE))"
   ]
  }
 ],
 "metadata": {
  "kernelspec": {
   "display_name": "Python 3",
   "language": "python",
   "name": "python3"
  },
  "language_info": {
   "codemirror_mode": {
    "name": "ipython",
    "version": 3
   },
   "file_extension": ".py",
   "mimetype": "text/x-python",
   "name": "python",
   "nbconvert_exporter": "python",
   "pygments_lexer": "ipython3",
   "version": "3.6.2"
  }
 },
 "nbformat": 4,
 "nbformat_minor": 2
}
