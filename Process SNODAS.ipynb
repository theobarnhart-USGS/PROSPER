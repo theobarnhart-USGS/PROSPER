{
 "cells": [
  {
   "cell_type": "code",
   "execution_count": 1,
   "metadata": {},
   "outputs": [],
   "source": [
    "import datetime\n",
    "import rasterio as rs\n",
    "#import scipy.interpolate as spint\n",
    "\n",
    "def get_date(fl):\n",
    "    '''Parse out data from the SNODAS file name'''\n",
    "    year = fl.split('__')[-1].split('.')[0][11:15]\n",
    "    month = fl.split('__')[-1].split('.')[0][15:17]\n",
    "    day = fl.split('__')[-1].split('.')[0][17:19]\n",
    "    \n",
    "    return '%s-%s-%s'%(year,month,day)\n",
    "\n",
    "def get_WaterYear(dt):\n",
    "    '''returns water year for a datetime object'''\n",
    "    strt = datetime.datetime(dt.year,10,1)\n",
    "    nd = datetime.datetime(dt.year,12,31)\n",
    "    \n",
    "    if (dt >= strt) & (dt <= nd):\n",
    "        return dt.year+1\n",
    "    else:\n",
    "        return dt.year\n",
    "\n",
    "def check_empty(vals):\n",
    "    '''Check for empty series of pixels in the raster stack'''\n",
    "    \n",
    "    if np.sum(np.isnan(vals)) > 0:\n",
    "        return 0\n",
    "    else:\n",
    "        return 1\n",
    "    \n",
    "def DOWY(date):\n",
    "    '''compute day of water year from a YYYY-MM-DD date string'''\n",
    "    if date == 'None':\n",
    "        return np.NaN\n",
    "    else:\n",
    "        year = int(date.split('-')[0])\n",
    "        month = int(date.split('-')[1])\n",
    "        day = int(date.split('-')[2])\n",
    "        \n",
    "        date = datetime.datetime(year,month,day)\n",
    "\n",
    "        if date <= datetime.datetime(year,9,30):\n",
    "            return (date - datetime.datetime(year - 1,10,1)).days\n",
    "        else: \n",
    "            return (date - datetime.datetime(year,10,1)).days + 1\n",
    "        \n",
    "\n",
    "def get_dons(vals,dates=[]):\n",
    "    '''Pull the date of no snow'''\n",
    "    if np.nansum(vals) > 0:\n",
    "        dons = dates[np.nanargmin(vals)] # return the first date that the pack hits 0\n",
    "        return DOWY(str(dons.date()))\n",
    "    else: return np.NaN\n",
    "    \n",
    "def get_peakSWE(vals):\n",
    "    '''Pull the peak SWE value'''\n",
    "    \n",
    "    if np.nansum(vals) > 0:\n",
    "        peakSWE = np.nanmax(vals)\n",
    "        return peakSWE\n",
    "\n",
    "    else:\n",
    "        return np.NaN\n",
    "\n",
    "def get_doPeakSWE(vals,dates=[]):\n",
    "    '''Pull the date of peak SWE\n",
    "    return a datetime object\n",
    "    '''\n",
    "    if np.nansum(vals) > 0:\n",
    "        dops = dates[np.nanargmax(vals)] # return the first date that the pack maxes out\n",
    "        return DOWY(str(dops.date()))\n",
    "    \n",
    "    else: return np.NaN\n",
    "\n",
    "def savetiff(inarray,outfl,profile):\n",
    "    '''Save a geotiff of an array using the file name and geospatial profile provided.'''\n",
    "    #profile['dtype'] = inarray.dtype\n",
    "    \n",
    "    with rs.open(outfl,'w',**profile) as ds:\n",
    "        ds.write(inarray,1)"
   ]
  },
  {
   "cell_type": "code",
   "execution_count": 173,
   "metadata": {},
   "outputs": [
    {
     "data": {
      "text/plain": [
       "195"
      ]
     },
     "execution_count": 173,
     "metadata": {},
     "output_type": "execute_result"
    }
   ],
   "source": [
    "DOWY(str(dates[np.nanargmax(test)].date()))"
   ]
  },
  {
   "cell_type": "code",
   "execution_count": 171,
   "metadata": {},
   "outputs": [],
   "source": [
    "test = np.array([np.NaN,np.NaN,0.4,np.NaN,0.5,0.2,0.1,0,np.NaN,np.NaN,np.NaN])\n",
    "dates = pd.date_range(start='2010-4-10',freq='D',periods=len(test))\n",
    "\n",
    "#df = pd.DataFrame()\n",
    "#df['swe'] = test\n",
    "#df.index = pd.DatetimeIndex(dates)\n",
    "\n",
    "#df.swe.max()"
   ]
  },
  {
   "cell_type": "raw",
   "metadata": {},
   "source": [
    "def compute_metrics(vals,dates=[]):\n",
    "    '''Computes day of no snow, day of peak SWE, and peak SWE.\n",
    "    \n",
    "    In:\n",
    "    Vals - SWE time series\n",
    "    dates - dates array for the time series\n",
    "    \n",
    "    Out:\n",
    "    dons - day of no snow in day of water year\n",
    "    dops - day of peak swe in day of water year\n",
    "    peakSWE - peak swe amount'''\n",
    "    \n",
    "    # create a data frame\n",
    "    \n",
    "    if np.nansum(vals) > 0: # if the data is not all NaNs\n",
    "        df = pd.DataFrame()\n",
    "        df['swe'] = vals\n",
    "        df.index = pd.DatetimeIndex(dates)\n",
    "\n",
    "        df.swe.interpolate(how='linear',limit=2,inplace=True) # interpolate small gaps linearly\n",
    "\n",
    "        DOWYPeakSWE = DOWY(str(df.swe.idxmax().date()))\n",
    "        DOWYNoSnow = DOWY(str(df.swe.idxmin().date()))\n",
    "        PeakSWE = df.swe.max()\n",
    "        return DOWYNoSnow,DOWYPeakSWE,PeakSWE\n",
    "        \n",
    "    else:\n",
    "        return np.NaN,np.NaN,np.NaN"
   ]
  },
  {
   "cell_type": "code",
   "execution_count": 2,
   "metadata": {
    "collapsed": true
   },
   "outputs": [],
   "source": [
    "def process_year(wy):\n",
    "    '''\n",
    "    Generate GeoTiffs of peak SWE, date of snow dissapearance, and date of peak SWE. Dates are\n",
    "    reported as day of water year of the water year provided.\n",
    "    \n",
    "    In:\n",
    "    water year\n",
    "    \n",
    "    Out:\n",
    "    None, but 3 geotiffs of the above variables are saved to the hard-coded paths below.\n",
    "    '''\n",
    "    fileList = files.loc[files.WaterYear==wy] # extract the files necessary\n",
    "    n = len(fileList) # number of files or raster stack depth\n",
    "\n",
    "    # load a test file to get the array dimensions\n",
    "    with rs.open(fileList.name[0]) as ds:\n",
    "        j,k = ds.read(1).shape\n",
    "        profile = ds.profile\n",
    "\n",
    "    tmp = np.ndarray((n,j,k),dtype=np.float32) # preallocate the array\n",
    "    tmp[:,:,:] = np.NaN # fill with NaNs\n",
    "    \n",
    "    i = 0\n",
    "    for fl in fileList.name:\n",
    "\n",
    "        with rs.open(fl) as ds:\n",
    "            d = ds.read(1)\n",
    "            \n",
    "            jj,kk = d.shape\n",
    "            if (jj != j) | (kk != k):\n",
    "                print('Arrays are not the same shape, skipping slice %s'%i)\n",
    "                del d\n",
    "                i += 1\n",
    "                continue\n",
    "            else:\n",
    "                dd = np.array(d,dtype = np.float32)\n",
    "                del d\n",
    "                dd[dd==-9999] = np.NaN\n",
    "                tmp[i,:,:] = dd/1000. # pull the data into the stack and scale it\n",
    "                i += 1\n",
    "\n",
    "\n",
    "    # reshape the array into a big data frame\n",
    "    cells = []\n",
    "    js = []\n",
    "    ks = []\n",
    "    for i in range(j):\n",
    "        for o in range(k):\n",
    "            cells.append(tmp[:,i,o])\n",
    "            js.append(i)\n",
    "            ks.append(o)\n",
    "\n",
    "    del tmp\n",
    "\n",
    "    dat = pd.DataFrame()\n",
    "    dat['jcoord'] = js\n",
    "    dat['kcoord'] = ks\n",
    "    dat['vals'] = cells\n",
    "    \n",
    "    dates = fileList.index\n",
    "    \n",
    "    # dat['empty'] = dat.vals.map(check_empty) # check for empty cells\n",
    "    \n",
    "    # process the metrics\n",
    "    dat['dowy_noSnow'] = dat.vals.apply(get_dons, dates=dates)\n",
    "    dat['PeakSWE'] = dat.vals.map(get_peakSWE)\n",
    "    dat['dowy_peakSWE'] = dat.vals.apply(get_doPeakSWE, dates=dates)\n",
    "    \n",
    "    # convert dates to day of water year\n",
    "    #dat[] = dat.dons.map(DOWY)\n",
    "    #dat[] = dat.doPeakSWE.map(DOWY)\n",
    "    \n",
    "    # convert data frames to arrays\n",
    "    dowyNoSnow = np.ndarray((j,k),dtype = np.float32) # preallocate\n",
    "    dowyPeakSWE = dowyNoSnow.copy() # copy for each variable\n",
    "    PeakSWE = dowyNoSnow.copy()\n",
    "    \n",
    "    # populate the arrays\n",
    "    dowyNoSnow[dat.jcoord,dat.kcoord] = dat.dowy_noSnow\n",
    "    dowyPeakSWE[dat.jcoord,dat.kcoord] = dat.dowy_peakSWE\n",
    "    PeakSWE[dat.jcoord,dat.kcoord] = dat.PeakSWE\n",
    "    \n",
    "    del dat\n",
    "    \n",
    "    ndval = -9999\n",
    "    # make the NaN the no data value\n",
    "    dowyNoSnow[np.isnan(dowyNoSnow)] = ndval\n",
    "    dowyPeakSWE[np.isnan(dowyPeakSWE)] = ndval\n",
    "    PeakSWE[np.isnan(PeakSWE)] = ndval\n",
    "\n",
    "    # save the output\n",
    "    profile['dtype'] = 'float32' # fix profile for the new arrays\n",
    "    profile['nodata'] = ndval # fix the no data value\n",
    "    \n",
    "    outfl = './data/snodas_peakSWE_wy%s.tiff'%wy\n",
    "    savetiff(PeakSWE,outfl,profile)\n",
    "\n",
    "    outfl = './data/snodas_DOWYpeakSWE_wy%s.tiff'%wy\n",
    "    savetiff(dowyPeakSWE,outfl,profile)\n",
    "\n",
    "    outfl = './data/snodas_DOWYnoSnow_wy%s.tiff'%wy\n",
    "    savetiff(dowyNoSnow,outfl,profile)\n",
    "    \n",
    "    return None"
   ]
  },
  {
   "cell_type": "code",
   "execution_count": 3,
   "metadata": {
    "collapsed": true
   },
   "outputs": [],
   "source": [
    "# generate a list of file names\n",
    "files = pd.DataFrame()\n",
    "files['name'] = glob.glob('./data/SNODAS_SWE/SnowWaterEquivalent/*/*.tif')\n",
    "files['datetime'] = files.name.map(get_date)\n",
    "files.index = pd.DatetimeIndex(files.datetime)\n",
    "del files['datetime']\n",
    "files['WaterYear'] = files.index.map(get_WaterYear)\n",
    "files.sort_index(ascending=True,inplace=True)"
   ]
  },
  {
   "cell_type": "code",
   "execution_count": 4,
   "metadata": {},
   "outputs": [
    {
     "name": "stdout",
     "output_type": "stream",
     "text": [
      "Arrays are not the same shape, skipping slice 157\n"
     ]
    },
    {
     "name": "stderr",
     "output_type": "stream",
     "text": [
      "/home/tbarnhart/miniconda3/envs/py36/lib/python3.6/site-packages/rasterio/__init__.py:160: FutureWarning: GDAL-style transforms are deprecated and will not be supported in Rasterio 1.0.\n",
      "  transform = guard_transform(transform)\n"
     ]
    }
   ],
   "source": [
    "process_year(2004)"
   ]
  },
  {
   "cell_type": "code",
   "execution_count": 44,
   "metadata": {
    "collapsed": true
   },
   "outputs": [
    {
     "name": "stdout",
     "output_type": "stream",
     "text": [
      "Starting WY: 2004\n",
      "Arrays are not the same shape, skipping slice 157\n"
     ]
    },
    {
     "ename": "TypeError",
     "evalue": "ufunc 'isnan' not supported for the input types, and the inputs could not be safely coerced to any supported types according to the casting rule ''safe''",
     "output_type": "error",
     "traceback": [
      "\u001b[0;31m---------------------------------------------------------------------------\u001b[0m",
      "\u001b[0;31mTypeError\u001b[0m                                 Traceback (most recent call last)",
      "\u001b[0;32m<ipython-input-44-c6e21392dfa3>\u001b[0m in \u001b[0;36m<module>\u001b[0;34m()\u001b[0m\n\u001b[1;32m      1\u001b[0m \u001b[0;32mfor\u001b[0m \u001b[0mwy\u001b[0m \u001b[0;32min\u001b[0m \u001b[0mfiles\u001b[0m\u001b[0;34m.\u001b[0m\u001b[0mWaterYear\u001b[0m\u001b[0;34m.\u001b[0m\u001b[0munique\u001b[0m\u001b[0;34m(\u001b[0m\u001b[0;34m)\u001b[0m\u001b[0;34m:\u001b[0m\u001b[0;34m\u001b[0m\u001b[0m\n\u001b[1;32m      2\u001b[0m     \u001b[0mprint\u001b[0m\u001b[0;34m(\u001b[0m\u001b[0;34m'Starting WY: %s'\u001b[0m\u001b[0;34m%\u001b[0m\u001b[0mwy\u001b[0m\u001b[0;34m)\u001b[0m\u001b[0;34m\u001b[0m\u001b[0m\n\u001b[0;32m----> 3\u001b[0;31m     \u001b[0mprocess_year\u001b[0m\u001b[0;34m(\u001b[0m\u001b[0mwy\u001b[0m\u001b[0;34m)\u001b[0m\u001b[0;34m\u001b[0m\u001b[0m\n\u001b[0m\u001b[1;32m      4\u001b[0m     \u001b[0mprint\u001b[0m\u001b[0;34m(\u001b[0m\u001b[0;34m'WY %s finished!'\u001b[0m\u001b[0;34m%\u001b[0m\u001b[0mwy\u001b[0m\u001b[0;34m)\u001b[0m\u001b[0;34m\u001b[0m\u001b[0m\n",
      "\u001b[0;32m<ipython-input-42-643abcb5d8ca>\u001b[0m in \u001b[0;36mprocess_year\u001b[0;34m(wy)\u001b[0m\n\u001b[1;32m     70\u001b[0m     \u001b[0mdat\u001b[0m\u001b[0;34m[\u001b[0m\u001b[0;34m'dowy_noSnow'\u001b[0m\u001b[0;34m]\u001b[0m \u001b[0;34m=\u001b[0m \u001b[0mnp\u001b[0m\u001b[0;34m.\u001b[0m\u001b[0mNaN\u001b[0m\u001b[0;34m\u001b[0m\u001b[0m\n\u001b[1;32m     71\u001b[0m     \u001b[0mdat\u001b[0m\u001b[0;34m[\u001b[0m\u001b[0;34m'dowy_peakSWE'\u001b[0m\u001b[0;34m]\u001b[0m \u001b[0;34m=\u001b[0m \u001b[0mnp\u001b[0m\u001b[0;34m.\u001b[0m\u001b[0mNaN\u001b[0m\u001b[0;34m\u001b[0m\u001b[0m\n\u001b[0;32m---> 72\u001b[0;31m     \u001b[0mdat\u001b[0m\u001b[0;34m.\u001b[0m\u001b[0mloc\u001b[0m\u001b[0;34m[\u001b[0m\u001b[0mnp\u001b[0m\u001b[0;34m.\u001b[0m\u001b[0misnan\u001b[0m\u001b[0;34m(\u001b[0m\u001b[0mdat\u001b[0m\u001b[0;34m.\u001b[0m\u001b[0mdons\u001b[0m\u001b[0;34m)\u001b[0m\u001b[0;34m==\u001b[0m\u001b[0;36m0\u001b[0m\u001b[0;34m,\u001b[0m\u001b[0;34m'dowy_noSnow'\u001b[0m\u001b[0;34m]\u001b[0m \u001b[0;34m=\u001b[0m \u001b[0mdat\u001b[0m\u001b[0;34m.\u001b[0m\u001b[0mloc\u001b[0m\u001b[0;34m[\u001b[0m\u001b[0mnp\u001b[0m\u001b[0;34m.\u001b[0m\u001b[0misnan\u001b[0m\u001b[0;34m(\u001b[0m\u001b[0mdat\u001b[0m\u001b[0;34m.\u001b[0m\u001b[0mdons\u001b[0m\u001b[0;34m)\u001b[0m\u001b[0;34m==\u001b[0m\u001b[0;36m0\u001b[0m\u001b[0;34m]\u001b[0m\u001b[0;34m.\u001b[0m\u001b[0mdons\u001b[0m\u001b[0;34m.\u001b[0m\u001b[0mmap\u001b[0m\u001b[0;34m(\u001b[0m\u001b[0mDOWY\u001b[0m\u001b[0;34m)\u001b[0m\u001b[0;34m\u001b[0m\u001b[0m\n\u001b[0m\u001b[1;32m     73\u001b[0m     \u001b[0mdat\u001b[0m\u001b[0;34m.\u001b[0m\u001b[0mloc\u001b[0m\u001b[0;34m[\u001b[0m\u001b[0mnp\u001b[0m\u001b[0;34m.\u001b[0m\u001b[0misnan\u001b[0m\u001b[0;34m(\u001b[0m\u001b[0mdat\u001b[0m\u001b[0;34m.\u001b[0m\u001b[0mdoPeakSWE\u001b[0m\u001b[0;34m)\u001b[0m\u001b[0;34m==\u001b[0m\u001b[0;36m0\u001b[0m\u001b[0;34m,\u001b[0m\u001b[0;34m'dowy_peakSWE'\u001b[0m\u001b[0;34m]\u001b[0m \u001b[0;34m=\u001b[0m \u001b[0mdat\u001b[0m\u001b[0;34m.\u001b[0m\u001b[0mloc\u001b[0m\u001b[0;34m[\u001b[0m\u001b[0mnp\u001b[0m\u001b[0;34m.\u001b[0m\u001b[0misnan\u001b[0m\u001b[0;34m(\u001b[0m\u001b[0mdat\u001b[0m\u001b[0;34m.\u001b[0m\u001b[0mdoPeakSWE\u001b[0m\u001b[0;34m)\u001b[0m\u001b[0;34m==\u001b[0m\u001b[0;36m0\u001b[0m\u001b[0;34m]\u001b[0m\u001b[0;34m.\u001b[0m\u001b[0mdoPeakSWE\u001b[0m\u001b[0;34m.\u001b[0m\u001b[0mmap\u001b[0m\u001b[0;34m(\u001b[0m\u001b[0mDOWY\u001b[0m\u001b[0;34m)\u001b[0m\u001b[0;34m\u001b[0m\u001b[0m\n\u001b[1;32m     74\u001b[0m \u001b[0;34m\u001b[0m\u001b[0m\n",
      "\u001b[0;31mTypeError\u001b[0m: ufunc 'isnan' not supported for the input types, and the inputs could not be safely coerced to any supported types according to the casting rule ''safe''"
     ]
    }
   ],
   "source": [
    "for wy in files.WaterYear.unique():\n",
    "    print('Starting WY: %s'%wy)\n",
    "    process_year(wy)\n",
    "    print('WY %s finished!'%wy)"
   ]
  },
  {
   "cell_type": "code",
   "execution_count": 99,
   "metadata": {},
   "outputs": [
    {
     "name": "stderr",
     "output_type": "stream",
     "text": [
      "/home/tbarnhart/miniconda3/envs/py36/lib/python3.6/site-packages/ipykernel_launcher.py:1: RuntimeWarning: invalid value encountered in less\n",
      "  \"\"\"Entry point for launching an IPython kernel.\n"
     ]
    }
   ],
   "source": [
    "dowyNoSnow[dowyNoSnow<0] = np.NaN\n",
    "dowyPeakSWE[dowyPeakSWE<0] = np.NaN\n",
    "PeakSWE[PeakSWE<0] = np.NaN"
   ]
  },
  {
   "cell_type": "code",
   "execution_count": 114,
   "metadata": {},
   "outputs": [
    {
     "data": {
      "text/plain": [
       "304.0"
      ]
     },
     "execution_count": 114,
     "metadata": {},
     "output_type": "execute_result"
    }
   ],
   "source": [
    "np.nanmin(dowyNoSnow)"
   ]
  },
  {
   "cell_type": "code",
   "execution_count": 111,
   "metadata": {},
   "outputs": [
    {
     "data": {
      "text/plain": [
       "<matplotlib.text.Text at 0x7f50f93c3e48>"
      ]
     },
     "execution_count": 111,
     "metadata": {},
     "output_type": "execute_result"
    },
    {
     "data": {
      "image/png": "[encoded data removed]",
      "text/plain": [
       "<matplotlib.figure.Figure at 0x7f511a9f3e80>"
      ]
     },
     "metadata": {},
     "output_type": "display_data"
    }
   ],
   "source": [
    "plt.imshow(dowyNoSnow,cmap='Blues')\n",
    "plt.colorbar(label = 'Day of Water Year')\n",
    "plt.title('Date of No Snow: Water Year %s'%wy,fontsize=18)"
   ]
  },
  {
   "cell_type": "code",
   "execution_count": 115,
   "metadata": {},
   "outputs": [
    {
     "data": {
      "text/plain": [
       "<matplotlib.text.Text at 0x7f50f92e07b8>"
      ]
     },
     "execution_count": 115,
     "metadata": {},
     "output_type": "execute_result"
    },
    {
     "data": {
      "image/png": "[encoded data removed]",
      "text/plain": [
       "<matplotlib.figure.Figure at 0x7f50f9311f60>"
      ]
     },
     "metadata": {},
     "output_type": "display_data"
    }
   ],
   "source": [
    "plt.imshow(dowyPeakSWE,cmap='Blues')\n",
    "plt.colorbar(label = 'Day of Water Year')\n",
    "plt.title('Date of Peak SWE: Water Year %s'%wy,fontsize=18)"
   ]
  },
  {
   "cell_type": "code",
   "execution_count": 116,
   "metadata": {},
   "outputs": [
    {
     "data": {
      "text/plain": [
       "<matplotlib.text.Text at 0x7f50f9187080>"
      ]
     },
     "execution_count": 116,
     "metadata": {},
     "output_type": "execute_result"
    },
    {
     "data": {
      "image/png": "[encoded data removed]",
      "text/plain": [
       "<matplotlib.figure.Figure at 0x7f50f922c860>"
      ]
     },
     "metadata": {},
     "output_type": "display_data"
    }
   ],
   "source": [
    "plt.imshow(PeakSWE,cmap='Blues')\n",
    "plt.colorbar(label = '[m]')\n",
    "plt.title('Peak SWE: Water Year %s'%wy,fontsize=18)"
   ]
  },
  {
   "cell_type": "code",
   "execution_count": 85,
   "metadata": {
    "collapsed": true
   },
   "outputs": [],
   "source": []
  },
  {
   "cell_type": "code",
   "execution_count": 91,
   "metadata": {
    "collapsed": true
   },
   "outputs": [],
   "source": []
  },
  {
   "cell_type": "code",
   "execution_count": 93,
   "metadata": {},
   "outputs": [
    {
     "name": "stderr",
     "output_type": "stream",
     "text": [
      "/home/tbarnhart/miniconda3/envs/py36/lib/python3.6/site-packages/rasterio/__init__.py:160: FutureWarning: GDAL-style transforms are deprecated and will not be supported in Rasterio 1.0.\n",
      "  transform = guard_transform(transform)\n"
     ]
    }
   ],
   "source": []
  },
  {
   "cell_type": "code",
   "execution_count": 8,
   "metadata": {},
   "outputs": [
    {
     "data": {
      "text/plain": [
       "304"
      ]
     },
     "execution_count": 8,
     "metadata": {},
     "output_type": "execute_result"
    }
   ],
   "source": [
    "DOWY('2010-8-01')"
   ]
  },
  {
   "cell_type": "code",
   "execution_count": 9,
   "metadata": {},
   "outputs": [
    {
     "ename": "NameError",
     "evalue": "name 'dates' is not defined",
     "output_type": "error",
     "traceback": [
      "\u001b[0;31m---------------------------------------------------------------------------\u001b[0m",
      "\u001b[0;31mNameError\u001b[0m                                 Traceback (most recent call last)",
      "\u001b[0;32m<ipython-input-9-655dd69fd2e2>\u001b[0m in \u001b[0;36m<module>\u001b[0;34m()\u001b[0m\n\u001b[0;32m----> 1\u001b[0;31m \u001b[0mdates\u001b[0m\u001b[0;34m\u001b[0m\u001b[0m\n\u001b[0m",
      "\u001b[0;31mNameError\u001b[0m: name 'dates' is not defined"
     ]
    }
   ],
   "source": [
    "dates"
   ]
  },
  {
   "cell_type": "code",
   "execution_count": 10,
   "metadata": {
    "collapsed": true
   },
   "outputs": [],
   "source": [
    "wy = 2004\n",
    "fileList = files.loc[files.WaterYear==wy] # extract the files necessary"
   ]
  },
  {
   "cell_type": "code",
   "execution_count": 11,
   "metadata": {},
   "outputs": [
    {
     "data": {
      "text/html": [
       "<div>\n",
       "<style>\n",
       "    .dataframe thead tr:only-child th {\n",
       "        text-align: right;\n",
       "    }\n",
       "\n",
       "    .dataframe thead th {\n",
       "        text-align: left;\n",
       "    }\n",
       "\n",
       "    .dataframe tbody tr th {\n",
       "        vertical-align: top;\n",
       "    }\n",
       "</style>\n",
       "<table border=\"1\" class=\"dataframe\">\n",
       "  <thead>\n",
       "    <tr style=\"text-align: right;\">\n",
       "      <th></th>\n",
       "      <th>name</th>\n",
       "      <th>WaterYear</th>\n",
       "    </tr>\n",
       "    <tr>\n",
       "      <th>datetime</th>\n",
       "      <th></th>\n",
       "      <th></th>\n",
       "    </tr>\n",
       "  </thead>\n",
       "  <tbody>\n",
       "    <tr>\n",
       "      <th>2004-07-27</th>\n",
       "      <td>./data/SNODAS_SWE/SnowWaterEquivalent/July/us_...</td>\n",
       "      <td>2004</td>\n",
       "    </tr>\n",
       "    <tr>\n",
       "      <th>2004-07-28</th>\n",
       "      <td>./data/SNODAS_SWE/SnowWaterEquivalent/July/us_...</td>\n",
       "      <td>2004</td>\n",
       "    </tr>\n",
       "    <tr>\n",
       "      <th>2004-07-29</th>\n",
       "      <td>./data/SNODAS_SWE/SnowWaterEquivalent/July/us_...</td>\n",
       "      <td>2004</td>\n",
       "    </tr>\n",
       "    <tr>\n",
       "      <th>2004-07-30</th>\n",
       "      <td>./data/SNODAS_SWE/SnowWaterEquivalent/July/us_...</td>\n",
       "      <td>2004</td>\n",
       "    </tr>\n",
       "    <tr>\n",
       "      <th>2004-07-31</th>\n",
       "      <td>./data/SNODAS_SWE/SnowWaterEquivalent/July/us_...</td>\n",
       "      <td>2004</td>\n",
       "    </tr>\n",
       "  </tbody>\n",
       "</table>\n",
       "</div>"
      ],
      "text/plain": [
       "                                                         name  WaterYear\n",
       "datetime                                                                \n",
       "2004-07-27  ./data/SNODAS_SWE/SnowWaterEquivalent/July/us_...       2004\n",
       "2004-07-28  ./data/SNODAS_SWE/SnowWaterEquivalent/July/us_...       2004\n",
       "2004-07-29  ./data/SNODAS_SWE/SnowWaterEquivalent/July/us_...       2004\n",
       "2004-07-30  ./data/SNODAS_SWE/SnowWaterEquivalent/July/us_...       2004\n",
       "2004-07-31  ./data/SNODAS_SWE/SnowWaterEquivalent/July/us_...       2004"
      ]
     },
     "execution_count": 11,
     "metadata": {},
     "output_type": "execute_result"
    }
   ],
   "source": [
    "fileList.tail()"
   ]
  },
  {
   "cell_type": "code",
   "execution_count": 12,
   "metadata": {},
   "outputs": [
    {
     "data": {
      "text/plain": [
       "304"
      ]
     },
     "execution_count": 12,
     "metadata": {},
     "output_type": "execute_result"
    }
   ],
   "source": [
    "DOWY('2004-07-31')"
   ]
  },
  {
   "cell_type": "code",
   "execution_count": 13,
   "metadata": {},
   "outputs": [
    {
     "data": {
      "text/plain": [
       "303"
      ]
     },
     "execution_count": 13,
     "metadata": {},
     "output_type": "execute_result"
    }
   ],
   "source": [
    "DOWY('2010-07-31')"
   ]
  },
  {
   "cell_type": "code",
   "execution_count": null,
   "metadata": {
    "collapsed": true
   },
   "outputs": [],
   "source": []
  }
 ],
 "metadata": {
  "kernelspec": {
   "display_name": "Python 3",
   "language": "python",
   "name": "python3"
  },
  "language_info": {
   "codemirror_mode": {
    "name": "ipython",
    "version": 3
   },
   "file_extension": ".py",
   "mimetype": "text/x-python",
   "name": "python",
   "nbconvert_exporter": "python",
   "pygments_lexer": "ipython3",
   "version": "3.6.2"
  }
 },
 "nbformat": 4,
 "nbformat_minor": 2
}
