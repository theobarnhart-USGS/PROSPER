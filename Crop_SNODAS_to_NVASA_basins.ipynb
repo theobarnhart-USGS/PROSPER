{
 "cells": [
  {
   "cell_type": "markdown",
   "metadata": {},
   "source": [
    "## Crop the SWE rasters to the NVASA basins"
   ]
  },
  {
   "cell_type": "code",
   "execution_count": 4,
   "metadata": {
    "collapsed": true
   },
   "outputs": [],
   "source": [
    "import subprocess\n",
    "import geopandas as gpd\n",
    "\n",
    "def fix_geometry(df):\n",
    "    if df.geometry.is_valid: # if the geometry is valid in shapely, do nothing\n",
    "        return df.geometry\n",
    "    \n",
    "    elif df.geometry.is_valid==False: # if the geometry is invalid, fix it with a buffer of 0\n",
    "        return df.geometry.buffer(0)"
   ]
  },
  {
   "cell_type": "code",
   "execution_count": 7,
   "metadata": {},
   "outputs": [],
   "source": [
    "# clean the GageBains file\n",
    "dat = gpd.read_file('./data/GageBasins.shp')\n",
    "dat['new_geom'] = dat.apply(fix_geometry,axis=1)\n",
    "dat = dat.set_geometry('new_geom')\n",
    "del dat['geometry']\n",
    "\n",
    "dat.to_file('./data/GageBasins_clean.shp')"
   ]
  },
  {
   "cell_type": "code",
   "execution_count": 8,
   "metadata": {
    "collapsed": true
   },
   "outputs": [],
   "source": [
    "df = gpd.read_file('./data/GageBasins_clean.shp')"
   ]
  },
  {
   "cell_type": "code",
   "execution_count": 30,
   "metadata": {},
   "outputs": [],
   "source": [
    "names = df.Name.unique()\n",
    "wateryears = range(2004,2017)\n",
    "shp = './data/GageBasins_clean.shp'\n",
    "\n",
    "for wy in wateryears:\n",
    "    for name in names:\n",
    "        \n",
    "        # crop the peak SWE\n",
    "        infl = './data/snodas_peakSWE_wy%i.tiff'%wy\n",
    "        outfl = './data/snodas_cropped/peakSWE_wy%i_%s.tiff'%(wy,name)\n",
    "        \n",
    "        cmd = \"gdalwarp -overwrite -cutline %s -cwhere \"'\"Name='\"'%s'\"'\"'\" -crop_to_cutline %s %s\"%(shp,name,infl,outfl)\n",
    "        subprocess.call(cmd,shell = True)\n",
    "        \n",
    "        # crop the DOWY peak SWE\n",
    "        infl = './data/snodas_DOWYpeakSWE_wy%i.tiff'%wy\n",
    "        outfl = './data/snodas_cropped/DOWYpeakSWE_wy%i_%s.tiff'%(wy,name)\n",
    "        \n",
    "        cmd = \"gdalwarp -overwrite -cutline %s -cwhere \"'\"Name='\"'%s'\"'\"'\" -crop_to_cutline %s %s\"%(shp,name,infl,outfl)\n",
    "        subprocess.call(cmd,shell = True)\n",
    "        \n",
    "        # crop the DOWY no snow\n",
    "        infl = './data/snodas_DOWYnoSnow_wy%i.tiff'%wy\n",
    "        outfl = './data/snodas_cropped/DOWYNS_wy%i_%s.tiff'%(wy,name)\n",
    "        \n",
    "        cmd = \"gdalwarp -overwrite -cutline %s -cwhere \"'\"Name='\"'%s'\"'\"'\" -crop_to_cutline %s %s\"%(shp,name,infl,outfl)\n",
    "        subprocess.call(cmd,shell = True)"
   ]
  },
  {
   "cell_type": "code",
   "execution_count": null,
   "metadata": {
    "collapsed": true
   },
   "outputs": [],
   "source": []
  }
 ],
 "metadata": {
  "kernelspec": {
   "display_name": "Python 3",
   "language": "python",
   "name": "python3"
  },
  "language_info": {
   "codemirror_mode": {
    "name": "ipython",
    "version": 3
   },
   "file_extension": ".py",
   "mimetype": "text/x-python",
   "name": "python",
   "nbconvert_exporter": "python",
   "pygments_lexer": "ipython3",
   "version": "3.6.2"
  }
 },
 "nbformat": 4,
 "nbformat_minor": 2
}
